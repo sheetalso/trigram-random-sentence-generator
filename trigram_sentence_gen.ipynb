{
 "cells": [
  {
   "cell_type": "code",
   "execution_count": null,
   "metadata": {
    "collapsed": false
   },
   "outputs": [],
   "source": [
    "import nltk\n",
    "from collections import defaultdict\n",
    "import random"
   ]
  },
  {
   "cell_type": "code",
   "execution_count": null,
   "metadata": {
    "collapsed": false
   },
   "outputs": [],
   "source": [
    "with open(\"<path to your text file\", 'r') as f:\n",
    "    text = f.read()\n",
    "\n",
    "words = nltk.word_tokenize(text)\n",
    "grams = [gram for gram in nltk.trigrams(words)]"
   ]
  },
  {
   "cell_type": "code",
   "execution_count": null,
   "metadata": {
    "collapsed": false
   },
   "outputs": [],
   "source": [
    "def generate_using_trigrams(starts, trigram_transitions):\n",
    "    current = random.choice(starts)   # choose a random starting word\n",
    "    prev = \".\"                        # precede it with punctuation\n",
    "    result = [current]\n",
    "    while True:\n",
    "        next_word_candidates = trigram_transitions[(prev, current)]\n",
    "        next = random.choice(next_word_candidates)\n",
    "\n",
    "        prev, current = current, next\n",
    "        result.append(current)\n",
    "\n",
    "        if current == \".\":\n",
    "            return \" \".join(result)\n",
    "        \n",
    "\n",
    "trigram_transitions = defaultdict(list)\n",
    "starts = []\n",
    "\n",
    "for prev, current, next in bograms:\n",
    "    \n",
    "    if prev == \".\":              # if previous word was a period\n",
    "        starts.append(current)   # then this was a start word\n",
    "        \n",
    "    trigram_transitions[(prev, current)].append(next)\n",
    "\n",
    "text = \"\"\n",
    "\n",
    "for i in xrange(20):            # change the range depending on how much text you want to generate\n",
    "    text += generate_using_trigrams(starts, trigram_transitions)\n",
    "    \n",
    "text.replace(\" .\", \". \").replace(\" ,\", \",\").replace(\" ?\", \"?\")"
   ]
  }
 ],
 "metadata": {
  "kernelspec": {
   "display_name": "Python 2",
   "language": "python",
   "name": "python2"
  },
  "language_info": {
   "codemirror_mode": {
    "name": "ipython",
    "version": 2
   },
   "file_extension": ".py",
   "mimetype": "text/x-python",
   "name": "python",
   "nbconvert_exporter": "python",
   "pygments_lexer": "ipython2",
   "version": "2.7.11"
  }
 },
 "nbformat": 4,
 "nbformat_minor": 0
}
